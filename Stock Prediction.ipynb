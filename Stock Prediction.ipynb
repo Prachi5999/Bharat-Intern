{
 "cells": [
  {
   "cell_type": "code",
   "execution_count": 1,
   "id": "70510bbb",
   "metadata": {},
   "outputs": [],
   "source": [
    "#importing libraries to be used\n",
    "import numpy as np \n",
    "import pandas as pd \n",
    "import matplotlib.pyplot as plt \n",
    "import seaborn as sns\n",
    "%matplotlib inline\n",
    "import warnings\n",
    "warnings.filterwarnings('ignore') \n",
    "from sklearn.preprocessing import MinMaxScaler \n",
    "from keras.models import Sequential\n",
    "from keras.layers import Dense, Dropout, LSTM, Bidirectional"
   ]
  },
  {
   "cell_type": "code",
   "execution_count": 2,
   "id": "c6288de1",
   "metadata": {},
   "outputs": [
    {
     "data": {
      "text/html": [
       "<div>\n",
       "<style scoped>\n",
       "    .dataframe tbody tr th:only-of-type {\n",
       "        vertical-align: middle;\n",
       "    }\n",
       "\n",
       "    .dataframe tbody tr th {\n",
       "        vertical-align: top;\n",
       "    }\n",
       "\n",
       "    .dataframe thead th {\n",
       "        text-align: right;\n",
       "    }\n",
       "</style>\n",
       "<table border=\"1\" class=\"dataframe\">\n",
       "  <thead>\n",
       "    <tr style=\"text-align: right;\">\n",
       "      <th></th>\n",
       "      <th>Date</th>\n",
       "      <th>Open</th>\n",
       "      <th>High</th>\n",
       "      <th>Low</th>\n",
       "      <th>Close</th>\n",
       "      <th>Adj Close</th>\n",
       "      <th>Volume</th>\n",
       "    </tr>\n",
       "  </thead>\n",
       "  <tbody>\n",
       "    <tr>\n",
       "      <th>0</th>\n",
       "      <td>2018-02-05</td>\n",
       "      <td>262.000000</td>\n",
       "      <td>267.899994</td>\n",
       "      <td>250.029999</td>\n",
       "      <td>254.259995</td>\n",
       "      <td>254.259995</td>\n",
       "      <td>11896100</td>\n",
       "    </tr>\n",
       "    <tr>\n",
       "      <th>1</th>\n",
       "      <td>2018-02-06</td>\n",
       "      <td>247.699997</td>\n",
       "      <td>266.700012</td>\n",
       "      <td>245.000000</td>\n",
       "      <td>265.720001</td>\n",
       "      <td>265.720001</td>\n",
       "      <td>12595800</td>\n",
       "    </tr>\n",
       "    <tr>\n",
       "      <th>2</th>\n",
       "      <td>2018-02-07</td>\n",
       "      <td>266.579987</td>\n",
       "      <td>272.450012</td>\n",
       "      <td>264.329987</td>\n",
       "      <td>264.559998</td>\n",
       "      <td>264.559998</td>\n",
       "      <td>8981500</td>\n",
       "    </tr>\n",
       "    <tr>\n",
       "      <th>3</th>\n",
       "      <td>2018-02-08</td>\n",
       "      <td>267.079987</td>\n",
       "      <td>267.619995</td>\n",
       "      <td>250.000000</td>\n",
       "      <td>250.100006</td>\n",
       "      <td>250.100006</td>\n",
       "      <td>9306700</td>\n",
       "    </tr>\n",
       "    <tr>\n",
       "      <th>4</th>\n",
       "      <td>2018-02-09</td>\n",
       "      <td>253.850006</td>\n",
       "      <td>255.800003</td>\n",
       "      <td>236.110001</td>\n",
       "      <td>249.470001</td>\n",
       "      <td>249.470001</td>\n",
       "      <td>16906900</td>\n",
       "    </tr>\n",
       "    <tr>\n",
       "      <th>5</th>\n",
       "      <td>2018-02-12</td>\n",
       "      <td>252.139999</td>\n",
       "      <td>259.149994</td>\n",
       "      <td>249.000000</td>\n",
       "      <td>257.950012</td>\n",
       "      <td>257.950012</td>\n",
       "      <td>8534900</td>\n",
       "    </tr>\n",
       "    <tr>\n",
       "      <th>6</th>\n",
       "      <td>2018-02-13</td>\n",
       "      <td>257.290009</td>\n",
       "      <td>261.410004</td>\n",
       "      <td>254.699997</td>\n",
       "      <td>258.269989</td>\n",
       "      <td>258.269989</td>\n",
       "      <td>6855200</td>\n",
       "    </tr>\n",
       "    <tr>\n",
       "      <th>7</th>\n",
       "      <td>2018-02-14</td>\n",
       "      <td>260.470001</td>\n",
       "      <td>269.880005</td>\n",
       "      <td>260.329987</td>\n",
       "      <td>266.000000</td>\n",
       "      <td>266.000000</td>\n",
       "      <td>10972000</td>\n",
       "    </tr>\n",
       "    <tr>\n",
       "      <th>8</th>\n",
       "      <td>2018-02-15</td>\n",
       "      <td>270.029999</td>\n",
       "      <td>280.500000</td>\n",
       "      <td>267.630005</td>\n",
       "      <td>280.269989</td>\n",
       "      <td>280.269989</td>\n",
       "      <td>10759700</td>\n",
       "    </tr>\n",
       "    <tr>\n",
       "      <th>9</th>\n",
       "      <td>2018-02-16</td>\n",
       "      <td>278.730011</td>\n",
       "      <td>281.959991</td>\n",
       "      <td>275.690002</td>\n",
       "      <td>278.519989</td>\n",
       "      <td>278.519989</td>\n",
       "      <td>8312400</td>\n",
       "    </tr>\n",
       "  </tbody>\n",
       "</table>\n",
       "</div>"
      ],
      "text/plain": [
       "         Date        Open        High         Low       Close   Adj Close  \\\n",
       "0  2018-02-05  262.000000  267.899994  250.029999  254.259995  254.259995   \n",
       "1  2018-02-06  247.699997  266.700012  245.000000  265.720001  265.720001   \n",
       "2  2018-02-07  266.579987  272.450012  264.329987  264.559998  264.559998   \n",
       "3  2018-02-08  267.079987  267.619995  250.000000  250.100006  250.100006   \n",
       "4  2018-02-09  253.850006  255.800003  236.110001  249.470001  249.470001   \n",
       "5  2018-02-12  252.139999  259.149994  249.000000  257.950012  257.950012   \n",
       "6  2018-02-13  257.290009  261.410004  254.699997  258.269989  258.269989   \n",
       "7  2018-02-14  260.470001  269.880005  260.329987  266.000000  266.000000   \n",
       "8  2018-02-15  270.029999  280.500000  267.630005  280.269989  280.269989   \n",
       "9  2018-02-16  278.730011  281.959991  275.690002  278.519989  278.519989   \n",
       "\n",
       "     Volume  \n",
       "0  11896100  \n",
       "1  12595800  \n",
       "2   8981500  \n",
       "3   9306700  \n",
       "4  16906900  \n",
       "5   8534900  \n",
       "6   6855200  \n",
       "7  10972000  \n",
       "8  10759700  \n",
       "9   8312400  "
      ]
     },
     "execution_count": 2,
     "metadata": {},
     "output_type": "execute_result"
    }
   ],
   "source": [
    "# data_importing\n",
    "df = pd.read_csv(\"D:/Bharat Intern/NFLX.csv\")\n",
    "# fetching first 10 rows of dataset\n",
    "df.head(10) "
   ]
  },
  {
   "cell_type": "markdown",
   "id": "c495e9fe",
   "metadata": {},
   "source": [
    "# Data Exploration & Cleaning"
   ]
  },
  {
   "cell_type": "code",
   "execution_count": 3,
   "id": "92337e5a",
   "metadata": {},
   "outputs": [
    {
     "data": {
      "text/html": [
       "<div>\n",
       "<style scoped>\n",
       "    .dataframe tbody tr th:only-of-type {\n",
       "        vertical-align: middle;\n",
       "    }\n",
       "\n",
       "    .dataframe tbody tr th {\n",
       "        vertical-align: top;\n",
       "    }\n",
       "\n",
       "    .dataframe thead th {\n",
       "        text-align: right;\n",
       "    }\n",
       "</style>\n",
       "<table border=\"1\" class=\"dataframe\">\n",
       "  <thead>\n",
       "    <tr style=\"text-align: right;\">\n",
       "      <th></th>\n",
       "      <th>Date</th>\n",
       "      <th>Open</th>\n",
       "      <th>High</th>\n",
       "      <th>Low</th>\n",
       "      <th>Close</th>\n",
       "      <th>Adj Close</th>\n",
       "      <th>Volume</th>\n",
       "    </tr>\n",
       "  </thead>\n",
       "  <tbody>\n",
       "    <tr>\n",
       "      <th>1004</th>\n",
       "      <td>2022-01-31</td>\n",
       "      <td>401.970001</td>\n",
       "      <td>427.700012</td>\n",
       "      <td>398.200012</td>\n",
       "      <td>427.140015</td>\n",
       "      <td>427.140015</td>\n",
       "      <td>20047500</td>\n",
       "    </tr>\n",
       "    <tr>\n",
       "      <th>1005</th>\n",
       "      <td>2022-02-01</td>\n",
       "      <td>432.959991</td>\n",
       "      <td>458.480011</td>\n",
       "      <td>425.540009</td>\n",
       "      <td>457.130005</td>\n",
       "      <td>457.130005</td>\n",
       "      <td>22542300</td>\n",
       "    </tr>\n",
       "    <tr>\n",
       "      <th>1006</th>\n",
       "      <td>2022-02-02</td>\n",
       "      <td>448.250000</td>\n",
       "      <td>451.980011</td>\n",
       "      <td>426.480011</td>\n",
       "      <td>429.480011</td>\n",
       "      <td>429.480011</td>\n",
       "      <td>14346000</td>\n",
       "    </tr>\n",
       "    <tr>\n",
       "      <th>1007</th>\n",
       "      <td>2022-02-03</td>\n",
       "      <td>421.440002</td>\n",
       "      <td>429.260010</td>\n",
       "      <td>404.279999</td>\n",
       "      <td>405.600006</td>\n",
       "      <td>405.600006</td>\n",
       "      <td>9905200</td>\n",
       "    </tr>\n",
       "    <tr>\n",
       "      <th>1008</th>\n",
       "      <td>2022-02-04</td>\n",
       "      <td>407.309998</td>\n",
       "      <td>412.769989</td>\n",
       "      <td>396.640015</td>\n",
       "      <td>410.170013</td>\n",
       "      <td>410.170013</td>\n",
       "      <td>7782400</td>\n",
       "    </tr>\n",
       "  </tbody>\n",
       "</table>\n",
       "</div>"
      ],
      "text/plain": [
       "            Date        Open        High         Low       Close   Adj Close  \\\n",
       "1004  2022-01-31  401.970001  427.700012  398.200012  427.140015  427.140015   \n",
       "1005  2022-02-01  432.959991  458.480011  425.540009  457.130005  457.130005   \n",
       "1006  2022-02-02  448.250000  451.980011  426.480011  429.480011  429.480011   \n",
       "1007  2022-02-03  421.440002  429.260010  404.279999  405.600006  405.600006   \n",
       "1008  2022-02-04  407.309998  412.769989  396.640015  410.170013  410.170013   \n",
       "\n",
       "        Volume  \n",
       "1004  20047500  \n",
       "1005  22542300  \n",
       "1006  14346000  \n",
       "1007   9905200  \n",
       "1008   7782400  "
      ]
     },
     "execution_count": 3,
     "metadata": {},
     "output_type": "execute_result"
    }
   ],
   "source": [
    "df.tail()"
   ]
  },
  {
   "cell_type": "code",
   "execution_count": 4,
   "id": "5ddc2297",
   "metadata": {},
   "outputs": [
    {
     "data": {
      "text/plain": [
       "(1009, 7)"
      ]
     },
     "execution_count": 4,
     "metadata": {},
     "output_type": "execute_result"
    }
   ],
   "source": [
    "df.shape"
   ]
  },
  {
   "cell_type": "code",
   "execution_count": 5,
   "id": "32e3886d",
   "metadata": {},
   "outputs": [
    {
     "data": {
      "text/html": [
       "<div>\n",
       "<style scoped>\n",
       "    .dataframe tbody tr th:only-of-type {\n",
       "        vertical-align: middle;\n",
       "    }\n",
       "\n",
       "    .dataframe tbody tr th {\n",
       "        vertical-align: top;\n",
       "    }\n",
       "\n",
       "    .dataframe thead th {\n",
       "        text-align: right;\n",
       "    }\n",
       "</style>\n",
       "<table border=\"1\" class=\"dataframe\">\n",
       "  <thead>\n",
       "    <tr style=\"text-align: right;\">\n",
       "      <th></th>\n",
       "      <th>Open</th>\n",
       "      <th>High</th>\n",
       "      <th>Low</th>\n",
       "      <th>Close</th>\n",
       "      <th>Adj Close</th>\n",
       "      <th>Volume</th>\n",
       "    </tr>\n",
       "  </thead>\n",
       "  <tbody>\n",
       "    <tr>\n",
       "      <th>count</th>\n",
       "      <td>1009.000000</td>\n",
       "      <td>1009.000000</td>\n",
       "      <td>1009.000000</td>\n",
       "      <td>1009.000000</td>\n",
       "      <td>1009.000000</td>\n",
       "      <td>1.009000e+03</td>\n",
       "    </tr>\n",
       "    <tr>\n",
       "      <th>mean</th>\n",
       "      <td>419.059673</td>\n",
       "      <td>425.320703</td>\n",
       "      <td>412.374044</td>\n",
       "      <td>419.000733</td>\n",
       "      <td>419.000733</td>\n",
       "      <td>7.570685e+06</td>\n",
       "    </tr>\n",
       "    <tr>\n",
       "      <th>std</th>\n",
       "      <td>108.537532</td>\n",
       "      <td>109.262960</td>\n",
       "      <td>107.555867</td>\n",
       "      <td>108.289999</td>\n",
       "      <td>108.289999</td>\n",
       "      <td>5.465535e+06</td>\n",
       "    </tr>\n",
       "    <tr>\n",
       "      <th>min</th>\n",
       "      <td>233.919998</td>\n",
       "      <td>250.649994</td>\n",
       "      <td>231.229996</td>\n",
       "      <td>233.880005</td>\n",
       "      <td>233.880005</td>\n",
       "      <td>1.144000e+06</td>\n",
       "    </tr>\n",
       "    <tr>\n",
       "      <th>25%</th>\n",
       "      <td>331.489990</td>\n",
       "      <td>336.299988</td>\n",
       "      <td>326.000000</td>\n",
       "      <td>331.619995</td>\n",
       "      <td>331.619995</td>\n",
       "      <td>4.091900e+06</td>\n",
       "    </tr>\n",
       "    <tr>\n",
       "      <th>50%</th>\n",
       "      <td>377.769989</td>\n",
       "      <td>383.010010</td>\n",
       "      <td>370.880005</td>\n",
       "      <td>378.670013</td>\n",
       "      <td>378.670013</td>\n",
       "      <td>5.934500e+06</td>\n",
       "    </tr>\n",
       "    <tr>\n",
       "      <th>75%</th>\n",
       "      <td>509.130005</td>\n",
       "      <td>515.630005</td>\n",
       "      <td>502.529999</td>\n",
       "      <td>509.079987</td>\n",
       "      <td>509.079987</td>\n",
       "      <td>9.322400e+06</td>\n",
       "    </tr>\n",
       "    <tr>\n",
       "      <th>max</th>\n",
       "      <td>692.349976</td>\n",
       "      <td>700.989990</td>\n",
       "      <td>686.090027</td>\n",
       "      <td>691.690002</td>\n",
       "      <td>691.690002</td>\n",
       "      <td>5.890430e+07</td>\n",
       "    </tr>\n",
       "  </tbody>\n",
       "</table>\n",
       "</div>"
      ],
      "text/plain": [
       "              Open         High          Low        Close    Adj Close  \\\n",
       "count  1009.000000  1009.000000  1009.000000  1009.000000  1009.000000   \n",
       "mean    419.059673   425.320703   412.374044   419.000733   419.000733   \n",
       "std     108.537532   109.262960   107.555867   108.289999   108.289999   \n",
       "min     233.919998   250.649994   231.229996   233.880005   233.880005   \n",
       "25%     331.489990   336.299988   326.000000   331.619995   331.619995   \n",
       "50%     377.769989   383.010010   370.880005   378.670013   378.670013   \n",
       "75%     509.130005   515.630005   502.529999   509.079987   509.079987   \n",
       "max     692.349976   700.989990   686.090027   691.690002   691.690002   \n",
       "\n",
       "             Volume  \n",
       "count  1.009000e+03  \n",
       "mean   7.570685e+06  \n",
       "std    5.465535e+06  \n",
       "min    1.144000e+06  \n",
       "25%    4.091900e+06  \n",
       "50%    5.934500e+06  \n",
       "75%    9.322400e+06  \n",
       "max    5.890430e+07  "
      ]
     },
     "execution_count": 5,
     "metadata": {},
     "output_type": "execute_result"
    }
   ],
   "source": [
    "df.describe()"
   ]
  },
  {
   "cell_type": "code",
   "execution_count": 6,
   "id": "a9cd8eb5",
   "metadata": {},
   "outputs": [
    {
     "name": "stdout",
     "output_type": "stream",
     "text": [
      "<class 'pandas.core.frame.DataFrame'>\n",
      "RangeIndex: 1009 entries, 0 to 1008\n",
      "Data columns (total 7 columns):\n",
      " #   Column     Non-Null Count  Dtype  \n",
      "---  ------     --------------  -----  \n",
      " 0   Date       1009 non-null   object \n",
      " 1   Open       1009 non-null   float64\n",
      " 2   High       1009 non-null   float64\n",
      " 3   Low        1009 non-null   float64\n",
      " 4   Close      1009 non-null   float64\n",
      " 5   Adj Close  1009 non-null   float64\n",
      " 6   Volume     1009 non-null   int64  \n",
      "dtypes: float64(5), int64(1), object(1)\n",
      "memory usage: 55.3+ KB\n"
     ]
    }
   ],
   "source": [
    "df.info()"
   ]
  },
  {
   "cell_type": "code",
   "execution_count": 7,
   "id": "ddc11e0c",
   "metadata": {},
   "outputs": [
    {
     "data": {
      "text/plain": [
       "Date         1009\n",
       "Open         1009\n",
       "High         1009\n",
       "Low          1009\n",
       "Close        1009\n",
       "Adj Close    1009\n",
       "Volume       1009\n",
       "dtype: int64"
      ]
     },
     "execution_count": 7,
     "metadata": {},
     "output_type": "execute_result"
    }
   ],
   "source": [
    "# check for non-null values\n",
    "df.count()"
   ]
  },
  {
   "cell_type": "code",
   "execution_count": 8,
   "id": "0fbf2c8b",
   "metadata": {},
   "outputs": [
    {
     "data": {
      "text/plain": [
       "Date         0\n",
       "Open         0\n",
       "High         0\n",
       "Low          0\n",
       "Close        0\n",
       "Adj Close    0\n",
       "Volume       0\n",
       "dtype: int64"
      ]
     },
     "execution_count": 8,
     "metadata": {},
     "output_type": "execute_result"
    }
   ],
   "source": [
    "#checking for the null values\n",
    "df.isnull().sum()"
   ]
  },
  {
   "cell_type": "code",
   "execution_count": 9,
   "id": "d3372827",
   "metadata": {},
   "outputs": [],
   "source": [
    "#Check for required columns\n",
    "df = df[['Date','Open','Close']] \n",
    "\n",
    "# converting object dtype of date column to datetime dtype\n",
    "\n",
    "df['Date'] = pd.to_datetime(df['Date'].apply(lambda x: x.split()[0])) "
   ]
  },
  {
   "cell_type": "code",
   "execution_count": 10,
   "id": "62a49dde",
   "metadata": {},
   "outputs": [
    {
     "data": {
      "text/html": [
       "<div>\n",
       "<style scoped>\n",
       "    .dataframe tbody tr th:only-of-type {\n",
       "        vertical-align: middle;\n",
       "    }\n",
       "\n",
       "    .dataframe tbody tr th {\n",
       "        vertical-align: top;\n",
       "    }\n",
       "\n",
       "    .dataframe thead th {\n",
       "        text-align: right;\n",
       "    }\n",
       "</style>\n",
       "<table border=\"1\" class=\"dataframe\">\n",
       "  <thead>\n",
       "    <tr style=\"text-align: right;\">\n",
       "      <th></th>\n",
       "      <th>Open</th>\n",
       "      <th>Close</th>\n",
       "    </tr>\n",
       "    <tr>\n",
       "      <th>Date</th>\n",
       "      <th></th>\n",
       "      <th></th>\n",
       "    </tr>\n",
       "  </thead>\n",
       "  <tbody>\n",
       "    <tr>\n",
       "      <th>2018-02-05</th>\n",
       "      <td>262.000000</td>\n",
       "      <td>254.259995</td>\n",
       "    </tr>\n",
       "    <tr>\n",
       "      <th>2018-02-06</th>\n",
       "      <td>247.699997</td>\n",
       "      <td>265.720001</td>\n",
       "    </tr>\n",
       "    <tr>\n",
       "      <th>2018-02-07</th>\n",
       "      <td>266.579987</td>\n",
       "      <td>264.559998</td>\n",
       "    </tr>\n",
       "    <tr>\n",
       "      <th>2018-02-08</th>\n",
       "      <td>267.079987</td>\n",
       "      <td>250.100006</td>\n",
       "    </tr>\n",
       "    <tr>\n",
       "      <th>2018-02-09</th>\n",
       "      <td>253.850006</td>\n",
       "      <td>249.470001</td>\n",
       "    </tr>\n",
       "    <tr>\n",
       "      <th>2018-02-12</th>\n",
       "      <td>252.139999</td>\n",
       "      <td>257.950012</td>\n",
       "    </tr>\n",
       "    <tr>\n",
       "      <th>2018-02-13</th>\n",
       "      <td>257.290009</td>\n",
       "      <td>258.269989</td>\n",
       "    </tr>\n",
       "    <tr>\n",
       "      <th>2018-02-14</th>\n",
       "      <td>260.470001</td>\n",
       "      <td>266.000000</td>\n",
       "    </tr>\n",
       "    <tr>\n",
       "      <th>2018-02-15</th>\n",
       "      <td>270.029999</td>\n",
       "      <td>280.269989</td>\n",
       "    </tr>\n",
       "    <tr>\n",
       "      <th>2018-02-16</th>\n",
       "      <td>278.730011</td>\n",
       "      <td>278.519989</td>\n",
       "    </tr>\n",
       "  </tbody>\n",
       "</table>\n",
       "</div>"
      ],
      "text/plain": [
       "                  Open       Close\n",
       "Date                              \n",
       "2018-02-05  262.000000  254.259995\n",
       "2018-02-06  247.699997  265.720001\n",
       "2018-02-07  266.579987  264.559998\n",
       "2018-02-08  267.079987  250.100006\n",
       "2018-02-09  253.850006  249.470001\n",
       "2018-02-12  252.139999  257.950012\n",
       "2018-02-13  257.290009  258.269989\n",
       "2018-02-14  260.470001  266.000000\n",
       "2018-02-15  270.029999  280.269989\n",
       "2018-02-16  278.730011  278.519989"
      ]
     },
     "execution_count": 10,
     "metadata": {},
     "output_type": "execute_result"
    }
   ],
   "source": [
    "df.set_index('Date',drop=True,inplace=True) \n",
    "df.head(10)"
   ]
  },
  {
   "cell_type": "markdown",
   "id": "cb5ed420",
   "metadata": {},
   "source": [
    "# Visualization of data\n"
   ]
  },
  {
   "cell_type": "code",
   "execution_count": 11,
   "id": "9bf6f272",
   "metadata": {},
   "outputs": [
    {
     "data": {
      "text/plain": [
       "array([[<AxesSubplot:title={'center':'Open'}>,\n",
       "        <AxesSubplot:title={'center':'Close'}>]], dtype=object)"
      ]
     },
     "execution_count": 11,
     "metadata": {},
     "output_type": "execute_result"
    },
    {
     "data": {
      "image/png": "[encoded data removed]",
      "text/plain": [
       "<Figure size 432x288 with 2 Axes>"
      ]
     },
     "metadata": {
      "needs_background": "light"
     },
     "output_type": "display_data"
    }
   ],
   "source": [
    "df.hist()"
   ]
  },
  {
   "cell_type": "code",
   "execution_count": 12,
   "id": "3d811a1c",
   "metadata": {
    "scrolled": true
   },
   "outputs": [
    {
     "data": {
      "image/png": "[encoded data removed]",
      "text/plain": [
       "<Figure size 1440x504 with 2 Axes>"
      ]
     },
     "metadata": {
      "needs_background": "light"
     },
     "output_type": "display_data"
    }
   ],
   "source": [
    "# plotting open and closing price on date index\n",
    "fig, ax =plt.subplots(1,2,figsize=(20,7))\n",
    "ax[0].plot(df['Open'],label='Open',color='blue')\n",
    "ax[0].set_xlabel('Date',size=15)\n",
    "ax[0].set_ylabel('Price',size=15)\n",
    "ax[0].legend()\n",
    "\n",
    "ax[1].plot(df['Close'],label='Close',color='green')\n",
    "ax[1].set_xlabel('Date',size=15)\n",
    "ax[1].set_ylabel('Price',size=15)\n",
    "ax[1].legend()\n",
    "\n",
    "fig.show()"
   ]
  },
  {
   "cell_type": "markdown",
   "id": "c36d7269",
   "metadata": {},
   "source": [
    "#  Pre Processing of the Data"
   ]
  },
  {
   "cell_type": "code",
   "execution_count": 13,
   "id": "47e12aa4",
   "metadata": {},
   "outputs": [
    {
     "data": {
      "text/html": [
       "<div>\n",
       "<style scoped>\n",
       "    .dataframe tbody tr th:only-of-type {\n",
       "        vertical-align: middle;\n",
       "    }\n",
       "\n",
       "    .dataframe tbody tr th {\n",
       "        vertical-align: top;\n",
       "    }\n",
       "\n",
       "    .dataframe thead th {\n",
       "        text-align: right;\n",
       "    }\n",
       "</style>\n",
       "<table border=\"1\" class=\"dataframe\">\n",
       "  <thead>\n",
       "    <tr style=\"text-align: right;\">\n",
       "      <th></th>\n",
       "      <th>Open</th>\n",
       "      <th>Close</th>\n",
       "    </tr>\n",
       "    <tr>\n",
       "      <th>Date</th>\n",
       "      <th></th>\n",
       "      <th></th>\n",
       "    </tr>\n",
       "  </thead>\n",
       "  <tbody>\n",
       "    <tr>\n",
       "      <th>2018-02-05</th>\n",
       "      <td>0.061253</td>\n",
       "      <td>0.044516</td>\n",
       "    </tr>\n",
       "    <tr>\n",
       "      <th>2018-02-06</th>\n",
       "      <td>0.030059</td>\n",
       "      <td>0.069548</td>\n",
       "    </tr>\n",
       "    <tr>\n",
       "      <th>2018-02-07</th>\n",
       "      <td>0.071243</td>\n",
       "      <td>0.067015</td>\n",
       "    </tr>\n",
       "    <tr>\n",
       "      <th>2018-02-08</th>\n",
       "      <td>0.072334</td>\n",
       "      <td>0.035430</td>\n",
       "    </tr>\n",
       "    <tr>\n",
       "      <th>2018-02-09</th>\n",
       "      <td>0.043474</td>\n",
       "      <td>0.034053</td>\n",
       "    </tr>\n",
       "    <tr>\n",
       "      <th>2018-02-12</th>\n",
       "      <td>0.039744</td>\n",
       "      <td>0.052576</td>\n",
       "    </tr>\n",
       "    <tr>\n",
       "      <th>2018-02-13</th>\n",
       "      <td>0.050978</td>\n",
       "      <td>0.053275</td>\n",
       "    </tr>\n",
       "    <tr>\n",
       "      <th>2018-02-14</th>\n",
       "      <td>0.057915</td>\n",
       "      <td>0.070160</td>\n",
       "    </tr>\n",
       "    <tr>\n",
       "      <th>2018-02-15</th>\n",
       "      <td>0.078769</td>\n",
       "      <td>0.101330</td>\n",
       "    </tr>\n",
       "    <tr>\n",
       "      <th>2018-02-16</th>\n",
       "      <td>0.097747</td>\n",
       "      <td>0.097508</td>\n",
       "    </tr>\n",
       "  </tbody>\n",
       "</table>\n",
       "</div>"
      ],
      "text/plain": [
       "                Open     Close\n",
       "Date                          \n",
       "2018-02-05  0.061253  0.044516\n",
       "2018-02-06  0.030059  0.069548\n",
       "2018-02-07  0.071243  0.067015\n",
       "2018-02-08  0.072334  0.035430\n",
       "2018-02-09  0.043474  0.034053\n",
       "2018-02-12  0.039744  0.052576\n",
       "2018-02-13  0.050978  0.053275\n",
       "2018-02-14  0.057915  0.070160\n",
       "2018-02-15  0.078769  0.101330\n",
       "2018-02-16  0.097747  0.097508"
      ]
     },
     "execution_count": 13,
     "metadata": {},
     "output_type": "execute_result"
    }
   ],
   "source": [
    "# normalizing all the values of all columns using MinMaxScaler\n",
    "MMS = MinMaxScaler()\n",
    "df[df.columns] = MMS.fit_transform(df)\n",
    "df.head(10)"
   ]
  },
  {
   "cell_type": "code",
   "execution_count": 14,
   "id": "71c53869",
   "metadata": {},
   "outputs": [
    {
     "data": {
      "text/html": [
       "<div>\n",
       "<style scoped>\n",
       "    .dataframe tbody tr th:only-of-type {\n",
       "        vertical-align: middle;\n",
       "    }\n",
       "\n",
       "    .dataframe tbody tr th {\n",
       "        vertical-align: top;\n",
       "    }\n",
       "\n",
       "    .dataframe thead th {\n",
       "        text-align: right;\n",
       "    }\n",
       "</style>\n",
       "<table border=\"1\" class=\"dataframe\">\n",
       "  <thead>\n",
       "    <tr style=\"text-align: right;\">\n",
       "      <th></th>\n",
       "      <th>Open</th>\n",
       "      <th>Close</th>\n",
       "    </tr>\n",
       "    <tr>\n",
       "      <th>Date</th>\n",
       "      <th></th>\n",
       "      <th></th>\n",
       "    </tr>\n",
       "  </thead>\n",
       "  <tbody>\n",
       "    <tr>\n",
       "      <th>2022-01-24</th>\n",
       "      <td>0.327182</td>\n",
       "      <td>0.334790</td>\n",
       "    </tr>\n",
       "    <tr>\n",
       "      <th>2022-01-25</th>\n",
       "      <td>0.316777</td>\n",
       "      <td>0.289509</td>\n",
       "    </tr>\n",
       "    <tr>\n",
       "      <th>2022-01-26</th>\n",
       "      <td>0.314879</td>\n",
       "      <td>0.274830</td>\n",
       "    </tr>\n",
       "    <tr>\n",
       "      <th>2022-01-27</th>\n",
       "      <td>0.323146</td>\n",
       "      <td>0.333807</td>\n",
       "    </tr>\n",
       "    <tr>\n",
       "      <th>2022-01-28</th>\n",
       "      <td>0.333399</td>\n",
       "      <td>0.328695</td>\n",
       "    </tr>\n",
       "    <tr>\n",
       "      <th>2022-01-31</th>\n",
       "      <td>0.366577</td>\n",
       "      <td>0.422140</td>\n",
       "    </tr>\n",
       "    <tr>\n",
       "      <th>2022-02-01</th>\n",
       "      <td>0.434178</td>\n",
       "      <td>0.487648</td>\n",
       "    </tr>\n",
       "    <tr>\n",
       "      <th>2022-02-02</th>\n",
       "      <td>0.467531</td>\n",
       "      <td>0.427251</td>\n",
       "    </tr>\n",
       "    <tr>\n",
       "      <th>2022-02-03</th>\n",
       "      <td>0.409048</td>\n",
       "      <td>0.375090</td>\n",
       "    </tr>\n",
       "    <tr>\n",
       "      <th>2022-02-04</th>\n",
       "      <td>0.378226</td>\n",
       "      <td>0.385072</td>\n",
       "    </tr>\n",
       "  </tbody>\n",
       "</table>\n",
       "</div>"
      ],
      "text/plain": [
       "                Open     Close\n",
       "Date                          \n",
       "2022-01-24  0.327182  0.334790\n",
       "2022-01-25  0.316777  0.289509\n",
       "2022-01-26  0.314879  0.274830\n",
       "2022-01-27  0.323146  0.333807\n",
       "2022-01-28  0.333399  0.328695\n",
       "2022-01-31  0.366577  0.422140\n",
       "2022-02-01  0.434178  0.487648\n",
       "2022-02-02  0.467531  0.427251\n",
       "2022-02-03  0.409048  0.375090\n",
       "2022-02-04  0.378226  0.385072"
      ]
     },
     "execution_count": 14,
     "metadata": {},
     "output_type": "execute_result"
    }
   ],
   "source": [
    "df.tail(10)"
   ]
  },
  {
   "cell_type": "code",
   "execution_count": 15,
   "id": "db888182",
   "metadata": {},
   "outputs": [],
   "source": [
    "# splitting the data into train and test set\n",
    "# Select 75 % for train and 25 % for test\n",
    "training_size = round(len(df) * 0.75) "
   ]
  },
  {
   "cell_type": "code",
   "execution_count": 16,
   "id": "9b51d297",
   "metadata": {},
   "outputs": [
    {
     "data": {
      "text/plain": [
       "757"
      ]
     },
     "execution_count": 16,
     "metadata": {},
     "output_type": "execute_result"
    }
   ],
   "source": [
    "training_size"
   ]
  },
  {
   "cell_type": "code",
   "execution_count": 17,
   "id": "768fa461",
   "metadata": {},
   "outputs": [
    {
     "data": {
      "text/plain": [
       "((757, 2), (252, 2))"
      ]
     },
     "execution_count": 17,
     "metadata": {},
     "output_type": "execute_result"
    }
   ],
   "source": [
    "train_data = df[:training_size]\n",
    "test_data  = df[training_size:]\n",
    "\n",
    "train_data.shape, test_data.shape"
   ]
  },
  {
   "cell_type": "code",
   "execution_count": 18,
   "id": "d0dea818",
   "metadata": {},
   "outputs": [],
   "source": [
    "# Function to create sequence of data for training and testing\n",
    "\n",
    "def create_sequence(dataset):\n",
    "  sequences = []\n",
    "  labels = []\n",
    "\n",
    "  start_idx = 0\n",
    "\n",
    "  for stop_idx in range(50,len(dataset)): # Selecting 50 rows at a time\n",
    "    sequences.append(dataset.iloc[start_idx:stop_idx])\n",
    "    labels.append(dataset.iloc[stop_idx])\n",
    "    start_idx += 1\n",
    "  return (np.array(sequences),np.array(labels))"
   ]
  },
  {
   "cell_type": "code",
   "execution_count": 19,
   "id": "05416571",
   "metadata": {},
   "outputs": [
    {
     "data": {
      "text/plain": [
       "((707, 50, 2), (707, 2), (202, 50, 2), (202, 2))"
      ]
     },
     "execution_count": 19,
     "metadata": {},
     "output_type": "execute_result"
    }
   ],
   "source": [
    "train_seq, train_label = create_sequence(train_data) \n",
    "test_seq, test_label = create_sequence(test_data)\n",
    "train_seq.shape, train_label.shape, test_seq.shape, test_label.shape"
   ]
  },
  {
   "cell_type": "markdown",
   "id": "143c1c4b",
   "metadata": {},
   "source": [
    "# CREATING LSTM MODEL"
   ]
  },
  {
   "cell_type": "code",
   "execution_count": 20,
   "id": "fd5913e3",
   "metadata": {},
   "outputs": [
    {
     "name": "stdout",
     "output_type": "stream",
     "text": [
      "Model: \"sequential\"\n",
      "_________________________________________________________________\n",
      " Layer (type)                Output Shape              Param #   \n",
      "=================================================================\n",
      " lstm (LSTM)                 (None, 50, 25)            2800      \n",
      "                                                                 \n",
      " dropout (Dropout)           (None, 50, 25)            0         \n",
      "                                                                 \n",
      " lstm_1 (LSTM)               (None, 25)                5100      \n",
      "                                                                 \n",
      " dense (Dense)               (None, 2)                 52        \n",
      "                                                                 \n",
      "=================================================================\n",
      "Total params: 7,952\n",
      "Trainable params: 7,952\n",
      "Non-trainable params: 0\n",
      "_________________________________________________________________\n"
     ]
    }
   ],
   "source": [
    "# imported Sequential from keras.models \n",
    "model = Sequential()\n",
    "# importing Dense, Dropout, LSTM, Bidirectional from keras.layers \n",
    "model.add(LSTM(units=25, return_sequences=True, input_shape = (train_seq.shape[1], train_seq.shape[2])))\n",
    "\n",
    "model.add(Dropout(0.1)) \n",
    "model.add(LSTM(units=25))\n",
    "\n",
    "model.add(Dense(2))\n",
    "\n",
    "model.compile(loss='mean_squared_error', optimizer='adam', metrics=['mean_absolute_error'])\n",
    "\n",
    "model.summary()"
   ]
  },
  {
   "cell_type": "code",
   "execution_count": 21,
   "id": "dc4f21f1",
   "metadata": {},
   "outputs": [
    {
     "name": "stdout",
     "output_type": "stream",
     "text": [
      "Epoch 1/100\n",
      "23/23 [==============================] - 4s 60ms/step - loss: 0.0439 - mean_absolute_error: 0.1611 - val_loss: 0.0316 - val_mean_absolute_error: 0.1516\n",
      "Epoch 2/100\n",
      "23/23 [==============================] - 1s 30ms/step - loss: 0.0068 - mean_absolute_error: 0.0636 - val_loss: 0.0134 - val_mean_absolute_error: 0.0894\n",
      "Epoch 3/100\n",
      "23/23 [==============================] - 1s 30ms/step - loss: 0.0034 - mean_absolute_error: 0.0446 - val_loss: 0.0088 - val_mean_absolute_error: 0.0680\n",
      "Epoch 4/100\n",
      "23/23 [==============================] - 1s 31ms/step - loss: 0.0026 - mean_absolute_error: 0.0392 - val_loss: 0.0084 - val_mean_absolute_error: 0.0642\n",
      "Epoch 5/100\n",
      "23/23 [==============================] - 1s 31ms/step - loss: 0.0026 - mean_absolute_error: 0.0390 - val_loss: 0.0077 - val_mean_absolute_error: 0.0621\n",
      "Epoch 6/100\n",
      "23/23 [==============================] - 1s 29ms/step - loss: 0.0025 - mean_absolute_error: 0.0383 - val_loss: 0.0076 - val_mean_absolute_error: 0.0624\n",
      "Epoch 7/100\n",
      "23/23 [==============================] - 1s 29ms/step - loss: 0.0023 - mean_absolute_error: 0.0369 - val_loss: 0.0072 - val_mean_absolute_error: 0.0601\n",
      "Epoch 8/100\n",
      "23/23 [==============================] - 1s 30ms/step - loss: 0.0024 - mean_absolute_error: 0.0377 - val_loss: 0.0068 - val_mean_absolute_error: 0.0585\n",
      "Epoch 9/100\n",
      "23/23 [==============================] - 1s 29ms/step - loss: 0.0025 - mean_absolute_error: 0.0379 - val_loss: 0.0068 - val_mean_absolute_error: 0.0573\n",
      "Epoch 10/100\n",
      "23/23 [==============================] - 1s 30ms/step - loss: 0.0023 - mean_absolute_error: 0.0368 - val_loss: 0.0065 - val_mean_absolute_error: 0.0569\n",
      "Epoch 11/100\n",
      "23/23 [==============================] - 1s 30ms/step - loss: 0.0022 - mean_absolute_error: 0.0354 - val_loss: 0.0061 - val_mean_absolute_error: 0.0543\n",
      "Epoch 12/100\n",
      "23/23 [==============================] - 1s 29ms/step - loss: 0.0022 - mean_absolute_error: 0.0355 - val_loss: 0.0061 - val_mean_absolute_error: 0.0555\n",
      "Epoch 13/100\n",
      "23/23 [==============================] - 1s 29ms/step - loss: 0.0021 - mean_absolute_error: 0.0347 - val_loss: 0.0058 - val_mean_absolute_error: 0.0541\n",
      "Epoch 14/100\n",
      "23/23 [==============================] - 1s 27ms/step - loss: 0.0022 - mean_absolute_error: 0.0353 - val_loss: 0.0055 - val_mean_absolute_error: 0.0518\n",
      "Epoch 15/100\n",
      "23/23 [==============================] - 1s 33ms/step - loss: 0.0022 - mean_absolute_error: 0.0347 - val_loss: 0.0057 - val_mean_absolute_error: 0.0517\n",
      "Epoch 16/100\n",
      "23/23 [==============================] - 1s 32ms/step - loss: 0.0020 - mean_absolute_error: 0.0339 - val_loss: 0.0053 - val_mean_absolute_error: 0.0514\n",
      "Epoch 17/100\n",
      "23/23 [==============================] - 1s 28ms/step - loss: 0.0021 - mean_absolute_error: 0.0342 - val_loss: 0.0054 - val_mean_absolute_error: 0.0528\n",
      "Epoch 18/100\n",
      "23/23 [==============================] - 1s 29ms/step - loss: 0.0020 - mean_absolute_error: 0.0337 - val_loss: 0.0048 - val_mean_absolute_error: 0.0476\n",
      "Epoch 19/100\n",
      "23/23 [==============================] - 1s 29ms/step - loss: 0.0019 - mean_absolute_error: 0.0323 - val_loss: 0.0048 - val_mean_absolute_error: 0.0473\n",
      "Epoch 20/100\n",
      "23/23 [==============================] - 1s 30ms/step - loss: 0.0019 - mean_absolute_error: 0.0328 - val_loss: 0.0044 - val_mean_absolute_error: 0.0455\n",
      "Epoch 21/100\n",
      "23/23 [==============================] - 1s 31ms/step - loss: 0.0020 - mean_absolute_error: 0.0327 - val_loss: 0.0047 - val_mean_absolute_error: 0.0488\n",
      "Epoch 22/100\n",
      "23/23 [==============================] - 1s 29ms/step - loss: 0.0021 - mean_absolute_error: 0.0346 - val_loss: 0.0045 - val_mean_absolute_error: 0.0453\n",
      "Epoch 23/100\n",
      "23/23 [==============================] - 1s 29ms/step - loss: 0.0019 - mean_absolute_error: 0.0324 - val_loss: 0.0044 - val_mean_absolute_error: 0.0466\n",
      "Epoch 24/100\n",
      "23/23 [==============================] - 1s 28ms/step - loss: 0.0019 - mean_absolute_error: 0.0329 - val_loss: 0.0042 - val_mean_absolute_error: 0.0446\n",
      "Epoch 25/100\n",
      "23/23 [==============================] - 1s 29ms/step - loss: 0.0018 - mean_absolute_error: 0.0319 - val_loss: 0.0040 - val_mean_absolute_error: 0.0433\n",
      "Epoch 26/100\n",
      "23/23 [==============================] - 1s 29ms/step - loss: 0.0018 - mean_absolute_error: 0.0313 - val_loss: 0.0047 - val_mean_absolute_error: 0.0498\n",
      "Epoch 27/100\n",
      "23/23 [==============================] - 1s 30ms/step - loss: 0.0018 - mean_absolute_error: 0.0312 - val_loss: 0.0038 - val_mean_absolute_error: 0.0423\n",
      "Epoch 28/100\n",
      "23/23 [==============================] - 1s 28ms/step - loss: 0.0018 - mean_absolute_error: 0.0314 - val_loss: 0.0037 - val_mean_absolute_error: 0.0415\n",
      "Epoch 29/100\n",
      "23/23 [==============================] - 1s 37ms/step - loss: 0.0017 - mean_absolute_error: 0.0315 - val_loss: 0.0037 - val_mean_absolute_error: 0.0419\n",
      "Epoch 30/100\n",
      "23/23 [==============================] - 1s 37ms/step - loss: 0.0016 - mean_absolute_error: 0.0300 - val_loss: 0.0037 - val_mean_absolute_error: 0.0414\n",
      "Epoch 31/100\n",
      "23/23 [==============================] - 1s 35ms/step - loss: 0.0017 - mean_absolute_error: 0.0303 - val_loss: 0.0034 - val_mean_absolute_error: 0.0399\n",
      "Epoch 32/100\n",
      "23/23 [==============================] - 1s 40ms/step - loss: 0.0015 - mean_absolute_error: 0.0293 - val_loss: 0.0033 - val_mean_absolute_error: 0.0386\n",
      "Epoch 33/100\n",
      "23/23 [==============================] - 1s 42ms/step - loss: 0.0016 - mean_absolute_error: 0.0301 - val_loss: 0.0033 - val_mean_absolute_error: 0.0395\n",
      "Epoch 34/100\n",
      "23/23 [==============================] - 1s 41ms/step - loss: 0.0016 - mean_absolute_error: 0.0297 - val_loss: 0.0034 - val_mean_absolute_error: 0.0401\n",
      "Epoch 35/100\n",
      "23/23 [==============================] - 1s 43ms/step - loss: 0.0015 - mean_absolute_error: 0.0290 - val_loss: 0.0034 - val_mean_absolute_error: 0.0413\n",
      "Epoch 36/100\n",
      "23/23 [==============================] - 1s 43ms/step - loss: 0.0015 - mean_absolute_error: 0.0285 - val_loss: 0.0031 - val_mean_absolute_error: 0.0388\n",
      "Epoch 37/100\n",
      "23/23 [==============================] - 1s 36ms/step - loss: 0.0013 - mean_absolute_error: 0.0275 - val_loss: 0.0029 - val_mean_absolute_error: 0.0359\n",
      "Epoch 38/100\n",
      "23/23 [==============================] - 1s 41ms/step - loss: 0.0014 - mean_absolute_error: 0.0282 - val_loss: 0.0034 - val_mean_absolute_error: 0.0427\n",
      "Epoch 39/100\n",
      "23/23 [==============================] - 1s 41ms/step - loss: 0.0014 - mean_absolute_error: 0.0278 - val_loss: 0.0038 - val_mean_absolute_error: 0.0464\n",
      "Epoch 40/100\n",
      "23/23 [==============================] - 1s 36ms/step - loss: 0.0014 - mean_absolute_error: 0.0288 - val_loss: 0.0032 - val_mean_absolute_error: 0.0404\n",
      "Epoch 41/100\n",
      "23/23 [==============================] - 1s 36ms/step - loss: 0.0013 - mean_absolute_error: 0.0271 - val_loss: 0.0028 - val_mean_absolute_error: 0.0355\n",
      "Epoch 42/100\n",
      "23/23 [==============================] - 1s 37ms/step - loss: 0.0014 - mean_absolute_error: 0.0279 - val_loss: 0.0026 - val_mean_absolute_error: 0.0336\n",
      "Epoch 43/100\n",
      "23/23 [==============================] - 1s 38ms/step - loss: 0.0013 - mean_absolute_error: 0.0268 - val_loss: 0.0028 - val_mean_absolute_error: 0.0353\n",
      "Epoch 44/100\n",
      "23/23 [==============================] - 1s 36ms/step - loss: 0.0013 - mean_absolute_error: 0.0263 - val_loss: 0.0026 - val_mean_absolute_error: 0.0342\n",
      "Epoch 45/100\n",
      "23/23 [==============================] - 1s 36ms/step - loss: 0.0013 - mean_absolute_error: 0.0270 - val_loss: 0.0029 - val_mean_absolute_error: 0.0372\n",
      "Epoch 46/100\n",
      "23/23 [==============================] - 1s 35ms/step - loss: 0.0013 - mean_absolute_error: 0.0263 - val_loss: 0.0026 - val_mean_absolute_error: 0.0337\n",
      "Epoch 47/100\n",
      "23/23 [==============================] - 1s 35ms/step - loss: 0.0012 - mean_absolute_error: 0.0261 - val_loss: 0.0025 - val_mean_absolute_error: 0.0329\n",
      "Epoch 48/100\n",
      "23/23 [==============================] - 1s 36ms/step - loss: 0.0013 - mean_absolute_error: 0.0259 - val_loss: 0.0025 - val_mean_absolute_error: 0.0339\n",
      "Epoch 49/100\n",
      "23/23 [==============================] - 1s 36ms/step - loss: 0.0012 - mean_absolute_error: 0.0256 - val_loss: 0.0025 - val_mean_absolute_error: 0.0335\n",
      "Epoch 50/100\n",
      "23/23 [==============================] - 1s 35ms/step - loss: 0.0011 - mean_absolute_error: 0.0249 - val_loss: 0.0032 - val_mean_absolute_error: 0.0411\n",
      "Epoch 51/100\n",
      "23/23 [==============================] - 1s 36ms/step - loss: 0.0012 - mean_absolute_error: 0.0253 - val_loss: 0.0026 - val_mean_absolute_error: 0.0339\n",
      "Epoch 52/100\n",
      "23/23 [==============================] - 1s 35ms/step - loss: 0.0011 - mean_absolute_error: 0.0250 - val_loss: 0.0025 - val_mean_absolute_error: 0.0329\n",
      "Epoch 53/100\n",
      "23/23 [==============================] - 1s 35ms/step - loss: 0.0012 - mean_absolute_error: 0.0249 - val_loss: 0.0024 - val_mean_absolute_error: 0.0326\n",
      "Epoch 54/100\n",
      "23/23 [==============================] - 1s 34ms/step - loss: 0.0011 - mean_absolute_error: 0.0249 - val_loss: 0.0026 - val_mean_absolute_error: 0.0339\n",
      "Epoch 55/100\n",
      "23/23 [==============================] - 1s 35ms/step - loss: 0.0010 - mean_absolute_error: 0.0238 - val_loss: 0.0032 - val_mean_absolute_error: 0.0398\n",
      "Epoch 56/100\n",
      "23/23 [==============================] - 1s 36ms/step - loss: 0.0011 - mean_absolute_error: 0.0249 - val_loss: 0.0032 - val_mean_absolute_error: 0.0408\n",
      "Epoch 57/100\n",
      "23/23 [==============================] - 1s 37ms/step - loss: 0.0010 - mean_absolute_error: 0.0233 - val_loss: 0.0035 - val_mean_absolute_error: 0.0445\n",
      "Epoch 58/100\n",
      "23/23 [==============================] - 1s 35ms/step - loss: 9.7579e-04 - mean_absolute_error: 0.0232 - val_loss: 0.0027 - val_mean_absolute_error: 0.0363\n",
      "Epoch 59/100\n",
      "23/23 [==============================] - 1s 35ms/step - loss: 8.9478e-04 - mean_absolute_error: 0.0222 - val_loss: 0.0022 - val_mean_absolute_error: 0.0305\n",
      "Epoch 60/100\n",
      "23/23 [==============================] - 1s 35ms/step - loss: 9.7552e-04 - mean_absolute_error: 0.0230 - val_loss: 0.0025 - val_mean_absolute_error: 0.0339\n",
      "Epoch 61/100\n",
      "23/23 [==============================] - 1s 36ms/step - loss: 0.0011 - mean_absolute_error: 0.0245 - val_loss: 0.0021 - val_mean_absolute_error: 0.0293\n",
      "Epoch 62/100\n",
      "23/23 [==============================] - 1s 35ms/step - loss: 8.4171e-04 - mean_absolute_error: 0.0215 - val_loss: 0.0031 - val_mean_absolute_error: 0.0398\n",
      "Epoch 63/100\n",
      "23/23 [==============================] - 1s 34ms/step - loss: 0.0010 - mean_absolute_error: 0.0233 - val_loss: 0.0023 - val_mean_absolute_error: 0.0316\n",
      "Epoch 64/100\n",
      "23/23 [==============================] - 1s 35ms/step - loss: 8.0915e-04 - mean_absolute_error: 0.0210 - val_loss: 0.0022 - val_mean_absolute_error: 0.0312\n",
      "Epoch 65/100\n",
      "23/23 [==============================] - 1s 35ms/step - loss: 8.8455e-04 - mean_absolute_error: 0.0221 - val_loss: 0.0025 - val_mean_absolute_error: 0.0333\n",
      "Epoch 66/100\n",
      "23/23 [==============================] - 1s 34ms/step - loss: 7.9354e-04 - mean_absolute_error: 0.0208 - val_loss: 0.0021 - val_mean_absolute_error: 0.0307\n",
      "Epoch 67/100\n",
      "23/23 [==============================] - 1s 35ms/step - loss: 7.9704e-04 - mean_absolute_error: 0.0206 - val_loss: 0.0029 - val_mean_absolute_error: 0.0385\n",
      "Epoch 68/100\n",
      "23/23 [==============================] - 1s 36ms/step - loss: 8.4342e-04 - mean_absolute_error: 0.0214 - val_loss: 0.0021 - val_mean_absolute_error: 0.0303\n",
      "Epoch 69/100\n",
      "23/23 [==============================] - 1s 36ms/step - loss: 9.4171e-04 - mean_absolute_error: 0.0223 - val_loss: 0.0028 - val_mean_absolute_error: 0.0369\n",
      "Epoch 70/100\n",
      "23/23 [==============================] - 1s 36ms/step - loss: 7.9625e-04 - mean_absolute_error: 0.0203 - val_loss: 0.0028 - val_mean_absolute_error: 0.0370\n",
      "Epoch 71/100\n",
      "23/23 [==============================] - 1s 35ms/step - loss: 7.8241e-04 - mean_absolute_error: 0.0209 - val_loss: 0.0022 - val_mean_absolute_error: 0.0309\n",
      "Epoch 72/100\n",
      "23/23 [==============================] - 1s 36ms/step - loss: 8.3753e-04 - mean_absolute_error: 0.0209 - val_loss: 0.0025 - val_mean_absolute_error: 0.0343\n",
      "Epoch 73/100\n",
      "23/23 [==============================] - 1s 36ms/step - loss: 8.3462e-04 - mean_absolute_error: 0.0207 - val_loss: 0.0035 - val_mean_absolute_error: 0.0429\n",
      "Epoch 74/100\n",
      "23/23 [==============================] - 1s 36ms/step - loss: 7.5738e-04 - mean_absolute_error: 0.0197 - val_loss: 0.0023 - val_mean_absolute_error: 0.0328\n",
      "Epoch 75/100\n",
      "23/23 [==============================] - 1s 34ms/step - loss: 7.2999e-04 - mean_absolute_error: 0.0196 - val_loss: 0.0027 - val_mean_absolute_error: 0.0351\n",
      "Epoch 76/100\n",
      "23/23 [==============================] - 1s 35ms/step - loss: 7.4439e-04 - mean_absolute_error: 0.0200 - val_loss: 0.0037 - val_mean_absolute_error: 0.0467\n",
      "Epoch 77/100\n",
      "23/23 [==============================] - 1s 36ms/step - loss: 8.1112e-04 - mean_absolute_error: 0.0209 - val_loss: 0.0027 - val_mean_absolute_error: 0.0356\n",
      "Epoch 78/100\n",
      "23/23 [==============================] - 1s 36ms/step - loss: 8.1870e-04 - mean_absolute_error: 0.0209 - val_loss: 0.0023 - val_mean_absolute_error: 0.0324\n",
      "Epoch 79/100\n",
      "23/23 [==============================] - 1s 36ms/step - loss: 6.8961e-04 - mean_absolute_error: 0.0190 - val_loss: 0.0026 - val_mean_absolute_error: 0.0347\n",
      "Epoch 80/100\n",
      "23/23 [==============================] - 1s 36ms/step - loss: 7.5574e-04 - mean_absolute_error: 0.0205 - val_loss: 0.0030 - val_mean_absolute_error: 0.0396\n",
      "Epoch 81/100\n",
      "23/23 [==============================] - 1s 35ms/step - loss: 7.5065e-04 - mean_absolute_error: 0.0201 - val_loss: 0.0019 - val_mean_absolute_error: 0.0285\n",
      "Epoch 82/100\n",
      "23/23 [==============================] - 1s 40ms/step - loss: 7.2969e-04 - mean_absolute_error: 0.0198 - val_loss: 0.0021 - val_mean_absolute_error: 0.0319\n",
      "Epoch 83/100\n",
      "23/23 [==============================] - 1s 42ms/step - loss: 7.9880e-04 - mean_absolute_error: 0.0204 - val_loss: 0.0038 - val_mean_absolute_error: 0.0462\n",
      "Epoch 84/100\n",
      "23/23 [==============================] - 1s 39ms/step - loss: 7.2541e-04 - mean_absolute_error: 0.0197 - val_loss: 0.0035 - val_mean_absolute_error: 0.0452\n",
      "Epoch 85/100\n",
      "23/23 [==============================] - 1s 36ms/step - loss: 6.9104e-04 - mean_absolute_error: 0.0189 - val_loss: 0.0026 - val_mean_absolute_error: 0.0363\n",
      "Epoch 86/100\n",
      "23/23 [==============================] - 1s 37ms/step - loss: 6.1768e-04 - mean_absolute_error: 0.0178 - val_loss: 0.0028 - val_mean_absolute_error: 0.0361\n",
      "Epoch 87/100\n",
      "23/23 [==============================] - 1s 36ms/step - loss: 6.5769e-04 - mean_absolute_error: 0.0185 - val_loss: 0.0041 - val_mean_absolute_error: 0.0497\n",
      "Epoch 88/100\n",
      "23/23 [==============================] - 1s 41ms/step - loss: 7.4519e-04 - mean_absolute_error: 0.0206 - val_loss: 0.0027 - val_mean_absolute_error: 0.0371\n",
      "Epoch 89/100\n",
      "23/23 [==============================] - 1s 39ms/step - loss: 6.3080e-04 - mean_absolute_error: 0.0182 - val_loss: 0.0033 - val_mean_absolute_error: 0.0407\n",
      "Epoch 90/100\n",
      "23/23 [==============================] - 1s 41ms/step - loss: 6.4367e-04 - mean_absolute_error: 0.0181 - val_loss: 0.0023 - val_mean_absolute_error: 0.0321\n",
      "Epoch 91/100\n",
      "23/23 [==============================] - 1s 40ms/step - loss: 6.5212e-04 - mean_absolute_error: 0.0180 - val_loss: 0.0023 - val_mean_absolute_error: 0.0332\n",
      "Epoch 92/100\n",
      "23/23 [==============================] - 1s 36ms/step - loss: 5.7407e-04 - mean_absolute_error: 0.0173 - val_loss: 0.0027 - val_mean_absolute_error: 0.0355\n",
      "Epoch 93/100\n",
      "23/23 [==============================] - 1s 40ms/step - loss: 6.2431e-04 - mean_absolute_error: 0.0181 - val_loss: 0.0029 - val_mean_absolute_error: 0.0373\n",
      "Epoch 94/100\n",
      "23/23 [==============================] - 1s 39ms/step - loss: 5.9419e-04 - mean_absolute_error: 0.0172 - val_loss: 0.0020 - val_mean_absolute_error: 0.0312\n",
      "Epoch 95/100\n",
      "23/23 [==============================] - 1s 36ms/step - loss: 5.6673e-04 - mean_absolute_error: 0.0172 - val_loss: 0.0022 - val_mean_absolute_error: 0.0326\n",
      "Epoch 96/100\n",
      "23/23 [==============================] - 1s 36ms/step - loss: 6.5886e-04 - mean_absolute_error: 0.0182 - val_loss: 0.0020 - val_mean_absolute_error: 0.0307\n",
      "Epoch 97/100\n",
      "23/23 [==============================] - 1s 34ms/step - loss: 5.9603e-04 - mean_absolute_error: 0.0178 - val_loss: 0.0022 - val_mean_absolute_error: 0.0318\n",
      "Epoch 98/100\n",
      "23/23 [==============================] - 1s 34ms/step - loss: 5.7603e-04 - mean_absolute_error: 0.0168 - val_loss: 0.0030 - val_mean_absolute_error: 0.0384\n",
      "Epoch 99/100\n",
      "23/23 [==============================] - 1s 36ms/step - loss: 5.6363e-04 - mean_absolute_error: 0.0172 - val_loss: 0.0035 - val_mean_absolute_error: 0.0433\n",
      "Epoch 100/100\n",
      "23/23 [==============================] - 1s 39ms/step - loss: 5.7677e-04 - mean_absolute_error: 0.0172 - val_loss: 0.0035 - val_mean_absolute_error: 0.0430\n"
     ]
    },
    {
     "data": {
      "text/plain": [
       "<keras.callbacks.History at 0x1c8703336a0>"
      ]
     },
     "execution_count": 21,
     "metadata": {},
     "output_type": "execute_result"
    }
   ],
   "source": [
    "# fitting the model by iterating the dataset over 100 times(100 epochs)\n",
    "model.fit(train_seq, train_label, epochs=100,validation_data=(test_seq, test_label), verbose=1)"
   ]
  },
  {
   "cell_type": "code",
   "execution_count": 22,
   "id": "42c4340a",
   "metadata": {},
   "outputs": [
    {
     "name": "stdout",
     "output_type": "stream",
     "text": [
      "7/7 [==============================] - 1s 8ms/step\n"
     ]
    },
    {
     "data": {
      "text/plain": [
       "array([[0.67445683, 0.656774  ],\n",
       "       [0.6129237 , 0.5969157 ],\n",
       "       [0.59243757, 0.5804399 ],\n",
       "       [0.58697975, 0.57689357],\n",
       "       [0.59487104, 0.5853819 ]], dtype=float32)"
      ]
     },
     "execution_count": 22,
     "metadata": {},
     "output_type": "execute_result"
    }
   ],
   "source": [
    "# predicting the values after running the model\n",
    "test_predicted = model.predict(test_seq)\n",
    "test_predicted[:5]"
   ]
  },
  {
   "cell_type": "code",
   "execution_count": 23,
   "id": "293937c6",
   "metadata": {},
   "outputs": [
    {
     "data": {
      "text/plain": [
       "array([[543.1112 , 534.5577 ],\n",
       "       [514.9026 , 507.154  ],\n",
       "       [505.5111 , 499.6112 ],\n",
       "       [503.00912, 497.98767],\n",
       "       [506.6267 , 501.8737 ]], dtype=float32)"
      ]
     },
     "execution_count": 23,
     "metadata": {},
     "output_type": "execute_result"
    }
   ],
   "source": [
    "# Inversing normalization/scaling on predicted data \n",
    "test_inverse_predicted = MMS.inverse_transform(test_predicted)\n",
    "test_inverse_predicted[:5]"
   ]
  },
  {
   "cell_type": "markdown",
   "id": "628380ed",
   "metadata": {},
   "source": [
    "# VISUALIZING ACTUAL DATA VS PREDICTED DATA"
   ]
  },
  {
   "cell_type": "code",
   "execution_count": 24,
   "id": "2f797f95",
   "metadata": {},
   "outputs": [],
   "source": [
    "# Merging actual and predicted data for better visualization\n",
    "df1 = pd.concat([df.iloc[-202:].copy(),\n",
    "                          pd.DataFrame(test_inverse_predicted,columns=['open_predicted','close_predicted'],\n",
    "                                       index=df.iloc[-202:].index)], axis=1)"
   ]
  },
  {
   "cell_type": "code",
   "execution_count": 25,
   "id": "eac6e906",
   "metadata": {},
   "outputs": [
    {
     "data": {
      "text/html": [
       "<div>\n",
       "<style scoped>\n",
       "    .dataframe tbody tr th:only-of-type {\n",
       "        vertical-align: middle;\n",
       "    }\n",
       "\n",
       "    .dataframe tbody tr th {\n",
       "        vertical-align: top;\n",
       "    }\n",
       "\n",
       "    .dataframe thead th {\n",
       "        text-align: right;\n",
       "    }\n",
       "</style>\n",
       "<table border=\"1\" class=\"dataframe\">\n",
       "  <thead>\n",
       "    <tr style=\"text-align: right;\">\n",
       "      <th></th>\n",
       "      <th>Open</th>\n",
       "      <th>Close</th>\n",
       "      <th>open_predicted</th>\n",
       "      <th>close_predicted</th>\n",
       "    </tr>\n",
       "    <tr>\n",
       "      <th>Date</th>\n",
       "      <th></th>\n",
       "      <th></th>\n",
       "      <th></th>\n",
       "      <th></th>\n",
       "    </tr>\n",
       "  </thead>\n",
       "  <tbody>\n",
       "    <tr>\n",
       "      <th>2021-04-21</th>\n",
       "      <td>508.000000</td>\n",
       "      <td>508.899994</td>\n",
       "      <td>543.111206</td>\n",
       "      <td>534.557678</td>\n",
       "    </tr>\n",
       "    <tr>\n",
       "      <th>2021-04-22</th>\n",
       "      <td>513.820007</td>\n",
       "      <td>508.779999</td>\n",
       "      <td>514.902588</td>\n",
       "      <td>507.153992</td>\n",
       "    </tr>\n",
       "    <tr>\n",
       "      <th>2021-04-23</th>\n",
       "      <td>509.010010</td>\n",
       "      <td>505.549988</td>\n",
       "      <td>505.511108</td>\n",
       "      <td>499.611206</td>\n",
       "    </tr>\n",
       "    <tr>\n",
       "      <th>2021-04-26</th>\n",
       "      <td>506.760010</td>\n",
       "      <td>510.299988</td>\n",
       "      <td>503.009125</td>\n",
       "      <td>497.987671</td>\n",
       "    </tr>\n",
       "    <tr>\n",
       "      <th>2021-04-27</th>\n",
       "      <td>512.619995</td>\n",
       "      <td>505.549988</td>\n",
       "      <td>506.626709</td>\n",
       "      <td>501.873688</td>\n",
       "    </tr>\n",
       "  </tbody>\n",
       "</table>\n",
       "</div>"
      ],
      "text/plain": [
       "                  Open       Close  open_predicted  close_predicted\n",
       "Date                                                               \n",
       "2021-04-21  508.000000  508.899994      543.111206       534.557678\n",
       "2021-04-22  513.820007  508.779999      514.902588       507.153992\n",
       "2021-04-23  509.010010  505.549988      505.511108       499.611206\n",
       "2021-04-26  506.760010  510.299988      503.009125       497.987671\n",
       "2021-04-27  512.619995  505.549988      506.626709       501.873688"
      ]
     },
     "execution_count": 25,
     "metadata": {},
     "output_type": "execute_result"
    }
   ],
   "source": [
    "# Inversing normalization/scaling \n",
    "df1[['Open','Close']] = MMS.inverse_transform(df1[['Open','Close']])\n",
    "df1.head()\n"
   ]
  },
  {
   "cell_type": "code",
   "execution_count": 26,
   "id": "8f26067a",
   "metadata": {},
   "outputs": [
    {
     "data": {
      "image/png": "[encoded data removed]",
      "text/plain": [
       "<Figure size 720x432 with 1 Axes>"
      ]
     },
     "metadata": {
      "needs_background": "light"
     },
     "output_type": "display_data"
    }
   ],
   "source": [
    "# plotting the actual open and predicted open prices on date index\n",
    "df1[['Open','open_predicted']].plot(figsize=(10,6))\n",
    "plt.xticks(rotation=45)\n",
    "plt.xlabel('Date',size=15)\n",
    "plt.ylabel('Stock Price',size=15)\n",
    "plt.title('Actual vs Predicted for open price',size=15)\n",
    "plt.show()"
   ]
  },
  {
   "cell_type": "code",
   "execution_count": 27,
   "id": "10557b4b",
   "metadata": {},
   "outputs": [
    {
     "data": {
      "image/png": "[encoded data removed]",
      "text/plain": [
       "<Figure size 720x432 with 1 Axes>"
      ]
     },
     "metadata": {
      "needs_background": "light"
     },
     "output_type": "display_data"
    }
   ],
   "source": [
    "# plotting the actual close and predicted close prices on date index \n",
    "df1[['Close','close_predicted']].plot(figsize=(10,6))\n",
    "plt.xticks(rotation=45)\n",
    "plt.xlabel('Date',size=15)\n",
    "plt.ylabel('Stock Price',size=15)\n",
    "plt.title('Actual vs Predicted for close price',size=15)\n",
    "plt.show()"
   ]
  },
  {
   "cell_type": "markdown",
   "id": "6bee0ac5",
   "metadata": {},
   "source": [
    "# Predicting forthcoming prediction"
   ]
  },
  {
   "cell_type": "code",
   "execution_count": 28,
   "id": "30b82f66",
   "metadata": {},
   "outputs": [
    {
     "data": {
      "text/html": [
       "<div>\n",
       "<style scoped>\n",
       "    .dataframe tbody tr th:only-of-type {\n",
       "        vertical-align: middle;\n",
       "    }\n",
       "\n",
       "    .dataframe tbody tr th {\n",
       "        vertical-align: top;\n",
       "    }\n",
       "\n",
       "    .dataframe thead th {\n",
       "        text-align: right;\n",
       "    }\n",
       "</style>\n",
       "<table border=\"1\" class=\"dataframe\">\n",
       "  <thead>\n",
       "    <tr style=\"text-align: right;\">\n",
       "      <th></th>\n",
       "      <th>Open</th>\n",
       "      <th>Close</th>\n",
       "      <th>open_predicted</th>\n",
       "      <th>close_predicted</th>\n",
       "    </tr>\n",
       "    <tr>\n",
       "      <th>Date</th>\n",
       "      <th></th>\n",
       "      <th></th>\n",
       "      <th></th>\n",
       "      <th></th>\n",
       "    </tr>\n",
       "  </thead>\n",
       "  <tbody>\n",
       "    <tr>\n",
       "      <th>2021-04-21</th>\n",
       "      <td>508.000000</td>\n",
       "      <td>508.899994</td>\n",
       "      <td>543.111206</td>\n",
       "      <td>534.557678</td>\n",
       "    </tr>\n",
       "    <tr>\n",
       "      <th>2021-04-22</th>\n",
       "      <td>513.820007</td>\n",
       "      <td>508.779999</td>\n",
       "      <td>514.902588</td>\n",
       "      <td>507.153992</td>\n",
       "    </tr>\n",
       "    <tr>\n",
       "      <th>2021-04-23</th>\n",
       "      <td>509.010010</td>\n",
       "      <td>505.549988</td>\n",
       "      <td>505.511108</td>\n",
       "      <td>499.611206</td>\n",
       "    </tr>\n",
       "    <tr>\n",
       "      <th>2021-04-26</th>\n",
       "      <td>506.760010</td>\n",
       "      <td>510.299988</td>\n",
       "      <td>503.009125</td>\n",
       "      <td>497.987671</td>\n",
       "    </tr>\n",
       "    <tr>\n",
       "      <th>2021-04-27</th>\n",
       "      <td>512.619995</td>\n",
       "      <td>505.549988</td>\n",
       "      <td>506.626709</td>\n",
       "      <td>501.873688</td>\n",
       "    </tr>\n",
       "    <tr>\n",
       "      <th>...</th>\n",
       "      <td>...</td>\n",
       "      <td>...</td>\n",
       "      <td>...</td>\n",
       "      <td>...</td>\n",
       "    </tr>\n",
       "    <tr>\n",
       "      <th>2022-01-31</th>\n",
       "      <td>401.970001</td>\n",
       "      <td>427.140015</td>\n",
       "      <td>397.373688</td>\n",
       "      <td>402.090027</td>\n",
       "    </tr>\n",
       "    <tr>\n",
       "      <th>2022-02-01</th>\n",
       "      <td>432.959991</td>\n",
       "      <td>457.130005</td>\n",
       "      <td>421.859131</td>\n",
       "      <td>426.759491</td>\n",
       "    </tr>\n",
       "    <tr>\n",
       "      <th>2022-02-02</th>\n",
       "      <td>448.250000</td>\n",
       "      <td>429.480011</td>\n",
       "      <td>453.710663</td>\n",
       "      <td>457.248230</td>\n",
       "    </tr>\n",
       "    <tr>\n",
       "      <th>2022-02-03</th>\n",
       "      <td>421.440002</td>\n",
       "      <td>405.600006</td>\n",
       "      <td>452.826050</td>\n",
       "      <td>453.563477</td>\n",
       "    </tr>\n",
       "    <tr>\n",
       "      <th>2022-02-04</th>\n",
       "      <td>407.309998</td>\n",
       "      <td>410.170013</td>\n",
       "      <td>429.877502</td>\n",
       "      <td>429.787872</td>\n",
       "    </tr>\n",
       "  </tbody>\n",
       "</table>\n",
       "<p>202 rows × 4 columns</p>\n",
       "</div>"
      ],
      "text/plain": [
       "                  Open       Close  open_predicted  close_predicted\n",
       "Date                                                               \n",
       "2021-04-21  508.000000  508.899994      543.111206       534.557678\n",
       "2021-04-22  513.820007  508.779999      514.902588       507.153992\n",
       "2021-04-23  509.010010  505.549988      505.511108       499.611206\n",
       "2021-04-26  506.760010  510.299988      503.009125       497.987671\n",
       "2021-04-27  512.619995  505.549988      506.626709       501.873688\n",
       "...                ...         ...             ...              ...\n",
       "2022-01-31  401.970001  427.140015      397.373688       402.090027\n",
       "2022-02-01  432.959991  457.130005      421.859131       426.759491\n",
       "2022-02-02  448.250000  429.480011      453.710663       457.248230\n",
       "2022-02-03  421.440002  405.600006      452.826050       453.563477\n",
       "2022-02-04  407.309998  410.170013      429.877502       429.787872\n",
       "\n",
       "[202 rows x 4 columns]"
      ]
     },
     "execution_count": 28,
     "metadata": {},
     "output_type": "execute_result"
    }
   ],
   "source": [
    "df1"
   ]
  },
  {
   "cell_type": "code",
   "execution_count": 29,
   "id": "cc85e9cf",
   "metadata": {
    "scrolled": true
   },
   "outputs": [
    {
     "data": {
      "text/html": [
       "<div>\n",
       "<style scoped>\n",
       "    .dataframe tbody tr th:only-of-type {\n",
       "        vertical-align: middle;\n",
       "    }\n",
       "\n",
       "    .dataframe tbody tr th {\n",
       "        vertical-align: top;\n",
       "    }\n",
       "\n",
       "    .dataframe thead th {\n",
       "        text-align: right;\n",
       "    }\n",
       "</style>\n",
       "<table border=\"1\" class=\"dataframe\">\n",
       "  <thead>\n",
       "    <tr style=\"text-align: right;\">\n",
       "      <th></th>\n",
       "      <th>Open</th>\n",
       "      <th>Close</th>\n",
       "      <th>open_predicted</th>\n",
       "      <th>close_predicted</th>\n",
       "    </tr>\n",
       "  </thead>\n",
       "  <tbody>\n",
       "    <tr>\n",
       "      <th>2022-02-03</th>\n",
       "      <td>421.440002</td>\n",
       "      <td>405.600006</td>\n",
       "      <td>452.826050</td>\n",
       "      <td>453.563477</td>\n",
       "    </tr>\n",
       "    <tr>\n",
       "      <th>2022-02-04</th>\n",
       "      <td>407.309998</td>\n",
       "      <td>410.170013</td>\n",
       "      <td>429.877502</td>\n",
       "      <td>429.787872</td>\n",
       "    </tr>\n",
       "    <tr>\n",
       "      <th>2022-02-04</th>\n",
       "      <td>NaN</td>\n",
       "      <td>NaN</td>\n",
       "      <td>NaN</td>\n",
       "      <td>NaN</td>\n",
       "    </tr>\n",
       "    <tr>\n",
       "      <th>2022-02-05</th>\n",
       "      <td>NaN</td>\n",
       "      <td>NaN</td>\n",
       "      <td>NaN</td>\n",
       "      <td>NaN</td>\n",
       "    </tr>\n",
       "    <tr>\n",
       "      <th>2022-02-06</th>\n",
       "      <td>NaN</td>\n",
       "      <td>NaN</td>\n",
       "      <td>NaN</td>\n",
       "      <td>NaN</td>\n",
       "    </tr>\n",
       "    <tr>\n",
       "      <th>2022-02-07</th>\n",
       "      <td>NaN</td>\n",
       "      <td>NaN</td>\n",
       "      <td>NaN</td>\n",
       "      <td>NaN</td>\n",
       "    </tr>\n",
       "    <tr>\n",
       "      <th>2022-02-08</th>\n",
       "      <td>NaN</td>\n",
       "      <td>NaN</td>\n",
       "      <td>NaN</td>\n",
       "      <td>NaN</td>\n",
       "    </tr>\n",
       "    <tr>\n",
       "      <th>2022-02-09</th>\n",
       "      <td>NaN</td>\n",
       "      <td>NaN</td>\n",
       "      <td>NaN</td>\n",
       "      <td>NaN</td>\n",
       "    </tr>\n",
       "    <tr>\n",
       "      <th>2022-02-10</th>\n",
       "      <td>NaN</td>\n",
       "      <td>NaN</td>\n",
       "      <td>NaN</td>\n",
       "      <td>NaN</td>\n",
       "    </tr>\n",
       "    <tr>\n",
       "      <th>2022-02-11</th>\n",
       "      <td>NaN</td>\n",
       "      <td>NaN</td>\n",
       "      <td>NaN</td>\n",
       "      <td>NaN</td>\n",
       "    </tr>\n",
       "    <tr>\n",
       "      <th>2022-02-12</th>\n",
       "      <td>NaN</td>\n",
       "      <td>NaN</td>\n",
       "      <td>NaN</td>\n",
       "      <td>NaN</td>\n",
       "    </tr>\n",
       "    <tr>\n",
       "      <th>2022-02-13</th>\n",
       "      <td>NaN</td>\n",
       "      <td>NaN</td>\n",
       "      <td>NaN</td>\n",
       "      <td>NaN</td>\n",
       "    </tr>\n",
       "    <tr>\n",
       "      <th>2022-02-14</th>\n",
       "      <td>NaN</td>\n",
       "      <td>NaN</td>\n",
       "      <td>NaN</td>\n",
       "      <td>NaN</td>\n",
       "    </tr>\n",
       "  </tbody>\n",
       "</table>\n",
       "</div>"
      ],
      "text/plain": [
       "                  Open       Close  open_predicted  close_predicted\n",
       "2022-02-03  421.440002  405.600006      452.826050       453.563477\n",
       "2022-02-04  407.309998  410.170013      429.877502       429.787872\n",
       "2022-02-04         NaN         NaN             NaN              NaN\n",
       "2022-02-05         NaN         NaN             NaN              NaN\n",
       "2022-02-06         NaN         NaN             NaN              NaN\n",
       "2022-02-07         NaN         NaN             NaN              NaN\n",
       "2022-02-08         NaN         NaN             NaN              NaN\n",
       "2022-02-09         NaN         NaN             NaN              NaN\n",
       "2022-02-10         NaN         NaN             NaN              NaN\n",
       "2022-02-11         NaN         NaN             NaN              NaN\n",
       "2022-02-12         NaN         NaN             NaN              NaN\n",
       "2022-02-13         NaN         NaN             NaN              NaN\n",
       "2022-02-14         NaN         NaN             NaN              NaN"
      ]
     },
     "execution_count": 29,
     "metadata": {},
     "output_type": "execute_result"
    }
   ],
   "source": [
    "# Creating a dataframe and adding 10 days to existing index \n",
    "\n",
    "df2 = pd.concat([df1,pd.DataFrame(columns=df1.columns,\n",
    "                                        index=pd.date_range(start=df1.index[-1], periods=11, freq='D'))],axis=0)\n",
    "df2['2022-02-03':'2022-02-21']"
   ]
  },
  {
   "cell_type": "code",
   "execution_count": 30,
   "id": "7aad8967",
   "metadata": {},
   "outputs": [],
   "source": [
    "# creating a DataFrame and filling values of open and close column\n",
    "forthcoming_prediction = pd.DataFrame(columns=['open','close'],index=df1.index)\n",
    "forthcoming_prediction.index=pd.to_datetime(forthcoming_prediction.index)"
   ]
  },
  {
   "cell_type": "code",
   "execution_count": 31,
   "id": "e784d3f9",
   "metadata": {},
   "outputs": [
    {
     "name": "stdout",
     "output_type": "stream",
     "text": [
      "1/1 [==============================] - 0s 26ms/step\n",
      "1/1 [==============================] - 0s 19ms/step\n",
      "1/1 [==============================] - 0s 19ms/step\n",
      "1/1 [==============================] - 0s 24ms/step\n",
      "1/1 [==============================] - 0s 19ms/step\n",
      "1/1 [==============================] - 0s 19ms/step\n",
      "1/1 [==============================] - 0s 20ms/step\n",
      "1/1 [==============================] - 0s 18ms/step\n",
      "1/1 [==============================] - 0s 21ms/step\n",
      "1/1 [==============================] - 0s 19ms/step\n"
     ]
    }
   ],
   "source": [
    "curr_seq = test_seq[-1:]\n",
    "\n",
    "for i in range(-10,0):\n",
    "  up_pred = model.predict(curr_seq)\n",
    "  forthcoming_prediction.iloc[i] = up_pred\n",
    "  curr_seq = np.append(curr_seq[0][1:],up_pred,axis=0)\n",
    "  curr_seq = curr_seq.reshape(test_seq[-1:].shape)"
   ]
  },
  {
   "cell_type": "code",
   "execution_count": 32,
   "id": "03e65106",
   "metadata": {},
   "outputs": [],
   "source": [
    "# inversing Normalization/scaling\n",
    "forthcoming_prediction[['open','close']] = MMS.inverse_transform(forthcoming_prediction[['open','close']])"
   ]
  },
  {
   "cell_type": "code",
   "execution_count": 33,
   "id": "2633c317",
   "metadata": {},
   "outputs": [
    {
     "data": {
      "image/png": "[encoded data removed]",
      "text/plain": [
       "<Figure size 720x360 with 1 Axes>"
      ]
     },
     "metadata": {
      "needs_background": "light"
     },
     "output_type": "display_data"
    }
   ],
   "source": [
    "# plotting forthcoming Open price on date index\n",
    "fig,ax=plt.subplots(figsize=(10,5))\n",
    "ax.plot(df1.loc['2022-01-24':,'Open'],label='Current Open Price')\n",
    "ax.plot(forthcoming_prediction.loc['2022-01-24':,'open'],label='Upcoming Open Price')\n",
    "plt.setp(ax.xaxis.get_majorticklabels(), rotation=45)\n",
    "ax.set_xlabel('Date',size=15)\n",
    "ax.set_ylabel('Stock Price',size=15)\n",
    "ax.set_title('forthcoming Open price prediction',size=15)\n",
    "ax.legend()\n",
    "fig.show()"
   ]
  },
  {
   "cell_type": "code",
   "execution_count": 34,
   "id": "09754317",
   "metadata": {},
   "outputs": [
    {
     "data": {
      "image/png": "[encoded data removed]",
      "text/plain": [
       "<Figure size 720x360 with 1 Axes>"
      ]
     },
     "metadata": {
      "needs_background": "light"
     },
     "output_type": "display_data"
    }
   ],
   "source": [
    "# plotting Upcoming Open price on date index\n",
    "fig,ax=plt.subplots(figsize=(10,5))\n",
    "ax.plot(df1.loc['2022-01-24':,'Close'],label='Current close Price')\n",
    "ax.plot(forthcoming_prediction.loc['2022-01-24':,'close'],label='Upcoming close Price')\n",
    "plt.setp(ax.xaxis.get_majorticklabels(), rotation=45)\n",
    "ax.set_xlabel('Date',size=15)\n",
    "ax.set_ylabel('Stock Price',size=15)\n",
    "ax.set_title('forthcoming close price prediction',size=15)\n",
    "ax.legend()\n",
    "fig.show()"
   ]
  }
 ],
 "metadata": {
  "kernelspec": {
   "display_name": "Python 3 (ipykernel)",
   "language": "python",
   "name": "python3"
  },
  "language_info": {
   "codemirror_mode": {
    "name": "ipython",
    "version": 3
   },
   "file_extension": ".py",
   "mimetype": "text/x-python",
   "name": "python",
   "nbconvert_exporter": "python",
   "pygments_lexer": "ipython3",
   "version": "3.9.7"
  }
 },
 "nbformat": 4,
 "nbformat_minor": 5
}
